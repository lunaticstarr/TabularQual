{
 "cells": [
  {
   "cell_type": "code",
   "execution_count": 18,
   "metadata": {},
   "outputs": [],
   "source": [
    "# Using Colomoto to convert format\n",
    "# colomoto-docker --bind .\n",
    "import biolqm\n",
    "from rpy2.robjects.packages import importr\n",
    "boolnet = importr(\"BoolNet\")\n",
    "import pandas as pd\n",
    "import numpy as np\n",
    "import libsbml\n"
   ]
  },
  {
   "cell_type": "markdown",
   "metadata": {},
   "source": [
    "# Build SBML-qual model from rules in spreadsheet"
   ]
  },
  {
   "cell_type": "code",
   "execution_count": 19,
   "metadata": {},
   "outputs": [],
   "source": [
    "model_name = \"Selvaggio2020\"\n",
    "txt_file = f\"Sources/{model_name}.txt\"\n",
    "sbml_file_generated = f\"Sources/{model_name}_boolnet.sbml\"\n",
    "xlsx_file = f\"Sources/{model_name}.xlsx\"\n",
    "sbml_file = f\"Sources/{model_name}_constructed.sbml\""
   ]
  },
  {
   "cell_type": "markdown",
   "metadata": {},
   "source": [
    "## xlsx to txt (boolnet)"
   ]
  },
  {
   "cell_type": "code",
   "execution_count": 36,
   "metadata": {},
   "outputs": [],
   "source": [
    "# Excel file with the rules\n",
    "df = pd.read_excel(xlsx_file, sheet_name='Logical_rules')\n",
    "\n",
    "with open(txt_file, 'w') as f:\n",
    "    f.write('targets, factors\\n')\n",
    "    for index, row in df.iterrows():\n",
    "        if row['Rules'] is not np.nan:\n",
    "            f.write(f\"{row['Node']}, {row['Rules']}\\n\")"
   ]
  },
  {
   "cell_type": "markdown",
   "metadata": {},
   "source": [
    "## txt (boolnet) to SBML-qual"
   ]
  },
  {
   "cell_type": "code",
   "execution_count": 38,
   "metadata": {},
   "outputs": [
    {
     "name": "stdout",
     "output_type": "stream",
     "text": [
      "Boolean network with 59 genes\n",
      "\n",
      "Involved genes:\n",
      "EGFR HGFR ITG_AB FAK_SRC FAK_SRC_2 RAS RAF1 MEK ERK PI3K ILK AKT GSK3B DVL CK1 FAT4 LATS NOTCH YAP_TAZ RPTP RAP1 TGFBR JAK BCat NFkB SMAD STAT3 JNK HIF1a PAK CSL TCF_LEF SNAIL SLUG ZEB miR200 ECad ECad_AJ ECad_AJ_2 BCat_AJ p120_AJ AJ AJ_2 FA FA_2 FA_3 EGF ITGab HGF ECM ROS_Hypoxia cMET WNT FAT4L DELTA RPTPL p120Ctn_ADJ TGFB IL6\n",
      "\n",
      "Transition functions:\n",
      "EGFR = ((EGF | (FAK_SRC_2 & ITGab) | TGFBR) & !RPTP)\n",
      "HGFR = ((HGF | ITGab) & !RPTP)\n",
      "ITG_AB = (ECM & RAP1)\n",
      "FAK_SRC = ((ROS_Hypoxia & !ITGab) | ((EGFR | cMET) & !ITGab) | (ITGab & !(ROS_Hypoxia | (EGFR & cMET))))\n",
      "FAK_SRC_2 = ((ROS_Hypoxia & ITGab) | (ITGab & cMET & EGFR))\n",
      "RAS = (EGFR | FAK_SRC | JAK | cMET | TGFBR)\n",
      "RAF1 = RAS\n",
      "MEK = RAF1\n",
      "ERK = MEK\n",
      "PI3K = (RAS | FAK_SRC)\n",
      "ILK = (ITGab & PI3K)\n",
      "AKT = (PI3K & ILK)\n",
      "GSK3B = (!AKT & !ERK & !DVL)\n",
      "DVL = (CK1 & YAP_TAZ)\n",
      "CK1 = WNT\n",
      "FAT4 = (FAT4L & !ERK)\n",
      "LATS = ((FAT4 | (ECad_AJ & BCat_AJ)) & !PI3K)\n",
      "NOTCH = DELTA\n",
      "YAP_TAZ = !LATS\n",
      "RPTP = (RPTPL & !FAK_SRC_2 & !ROS_Hypoxia)\n",
      "RAP1 = (FAK_SRC | (ECad_AJ_2 & !p120Ctn_ADJ))\n",
      "TGFBR = TGFB\n",
      "JAK = (IL6 | EGFR)\n",
      "BCat = (!GSK3B | !BCat_AJ | cMET)\n",
      "NFkB = (AKT | CSL | ROS_Hypoxia | TGFBR)\n",
      "SMAD = (TGFBR & YAP_TAZ)\n",
      "STAT3 = (JAK | FAK_SRC)\n",
      "JNK = ((TGFBR | ROS_Hypoxia | FAK_SRC) & !RPTP)\n",
      "HIF1a = (NFkB & STAT3)\n",
      "PAK = (FAK_SRC | PI3K)\n",
      "CSL = (NOTCH & !DVL)\n",
      "TCF_LEF = BCat\n",
      "SNAIL = ((SMAD | ERK | CSL | JNK | NFkB) & (!GSK3B | HIF1a) & (!GSK3B | PAK | STAT3) & (!TCF_LEF | SMAD | (ERK & CSL & JNK) | (ERK & CSL & NFkB) | (ERK & JNK & NFkB) | (CSL & JNK & NFkB)))\n",
      "SLUG = ((TCF_LEF | ERK | CSL | HIF1a) & !miR200 & !GSK3B)\n",
      "ZEB = (!miR200 & (SNAIL | SLUG))\n",
      "miR200 = (!ZEB & !SNAIL)\n",
      "ECad = ((!SNAIL | miR200) & !SLUG & !ZEB)\n",
      "ECad_AJ = (ECad & !BCat_AJ & (RPTP | !FAK_SRC))\n",
      "ECad_AJ_2 = (ECad & BCat_AJ & (RPTP | !FAK_SRC))\n",
      "BCat_AJ = (ECad_AJ & !JNK & (RPTP | !FAK_SRC))\n",
      "p120_AJ = (ECad_AJ & !CK1 & (RAP1 | p120Ctn_ADJ))\n",
      "AJ = (ECad & !ECad_AJ)\n",
      "AJ_2 = (ECad & ECad_AJ)\n",
      "FA = (FAK_SRC | PAK)\n",
      "FA_2 = (FAK_SRC & PAK)\n",
      "FA_3 = (ITGab & FAK_SRC & PAK)\n",
      "EGF = EGF\n",
      "ITGab = ITGab\n",
      "HGF = HGF\n",
      "ECM = ECM\n",
      "ROS_Hypoxia = ROS_Hypoxia\n",
      "cMET = cMET\n",
      "WNT = WNT\n",
      "FAT4L = FAT4L\n",
      "DELTA = DELTA\n",
      "RPTPL = RPTPL\n",
      "p120Ctn_ADJ = p120Ctn_ADJ\n",
      "TGFB = TGFB\n",
      "IL6 = IL6\n",
      "\n"
     ]
    }
   ],
   "source": [
    "# Load the network in text file\n",
    "net = boolnet.loadNetwork(txt_file)\n",
    "\n",
    "# Export to SBML\n",
    "boolnet.toSBML(net, sbml_file_generated)\n",
    "print(boolnet.loadSBML(sbml_file_generated))\n"
   ]
  },
  {
   "cell_type": "markdown",
   "metadata": {},
   "source": [
    "## Add comments from Excel file to transition notes"
   ]
  },
  {
   "cell_type": "code",
   "execution_count": 39,
   "metadata": {},
   "outputs": [
    {
     "data": {
      "text/plain": [
       "1"
      ]
     },
     "execution_count": 39,
     "metadata": {},
     "output_type": "execute_result"
    }
   ],
   "source": [
    "reader = libsbml.SBMLReader()\n",
    "document = reader.readSBML(sbml_file_generated)\n",
    "model = document.getModel().getPlugin('qual')\n",
    "\n",
    "# Add comments from Excel file to transition notes\n",
    "for index, row in df.iterrows():\n",
    "    if row['Comments'] is not np.nan:\n",
    "        transition_id = f\"tr_{row['Node']}\"\n",
    "        transition = model.getTransition(transition_id)\n",
    "        if transition is not None:\n",
    "            transition.setNotes(row['Comments'], True)\n",
    "\n",
    "# Export to SBML\n",
    "libsbml.writeSBMLToFile(document, sbml_file)"
   ]
  },
  {
   "cell_type": "markdown",
   "metadata": {},
   "source": [
    "# Proper indenting"
   ]
  },
  {
   "cell_type": "code",
   "execution_count": 1,
   "metadata": {},
   "outputs": [],
   "source": [
    "from lxml import etree\n",
    "\n",
    "tree = etree.parse(\"Sources/Selvaggio2020_ginsim.sbml\")\n",
    "\n",
    "# Pretty print with proper indentation\n",
    "pretty_xml = etree.tostring(tree, pretty_print=True, encoding='utf-8').decode('utf-8')\n",
    "\n",
    "with open(\"Sources/Selvaggio2020_ginsim_formatted.sbml\", \"w\") as f:\n",
    "    f.write(pretty_xml)"
   ]
  }
 ],
 "metadata": {
  "kernelspec": {
   "display_name": "Python 3 (ipykernel)",
   "language": "python",
   "name": "python3"
  },
  "language_info": {
   "codemirror_mode": {
    "name": "ipython",
    "version": 3
   },
   "file_extension": ".py",
   "mimetype": "text/x-python",
   "name": "python",
   "nbconvert_exporter": "python",
   "pygments_lexer": "ipython3",
   "version": "3.12.8"
  }
 },
 "nbformat": 4,
 "nbformat_minor": 2
}
