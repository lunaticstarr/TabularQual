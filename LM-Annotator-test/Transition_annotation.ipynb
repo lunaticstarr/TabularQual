{
 "cells": [
  {
   "cell_type": "code",
   "execution_count": 5,
   "metadata": {},
   "outputs": [],
   "source": [
    "import libsbml\n",
    "import pandas as pd\n",
    "import numpy as np\n",
    "from tools import *"
   ]
  },
  {
   "cell_type": "code",
   "execution_count": 24,
   "metadata": {},
   "outputs": [],
   "source": [
    "model_name = \"Selvaggio2020\"\n",
    "xlsx_file = f\"Sources/{model_name}.xlsx\"\n",
    "sbml_file = f\"Sources/{model_name}.sbml\"\n",
    "save_file = f\"Models/{model_name}_annotated.sbml\"\n",
    "strip_file = f\"Models/{model_name}_no_annotation.sbml\"\n",
    "\n",
    "knowledge_source = 'pubmed'\n",
    "qualifier = 'bqbiol:isDescribedBy'"
   ]
  },
  {
   "cell_type": "markdown",
   "metadata": {},
   "source": [
    "## Add metaids to all components"
   ]
  },
  {
   "cell_type": "code",
   "execution_count": 3,
   "metadata": {},
   "outputs": [],
   "source": [
    "reader = libsbml.SBMLReader()\n",
    "document = reader.readSBML(sbml_file)\n",
    "model = document.getModel().getPlugin('qual')\n",
    "\n",
    "# Ensure each component in the SBML model has a metaid.\n",
    "def generateMetaId(index):\n",
    "    return f\"metaid_{index:07d}\"\n",
    "    \n",
    "index = 1\n",
    "# Process the model\n",
    "document.getModel().setMetaId(generateMetaId(index))\n",
    "\n",
    "# Process species\n",
    "for species in model.getListOfQualitativeSpecies():\n",
    "    index += 1\n",
    "    if not species.isSetMetaId():\n",
    "        species.setMetaId(generateMetaId(index))\n",
    "\n",
    "# Process transitions\n",
    "for transition in model.getListOfTransitions():\n",
    "    index += 1\n",
    "    if not transition.isSetMetaId():\n",
    "        transition.setMetaId(generateMetaId(index))\n",
    "    \n",
    "    # set metaid for inputs of transition\n",
    "    for input in transition.getListOfInputs():\n",
    "        index += 1\n",
    "        if not input.isSetMetaId():\n",
    "            input.setMetaId(generateMetaId(index))\n",
    "    \n",
    "    # set metaid for outputs of transition\n",
    "    for output in transition.getListOfOutputs():\n",
    "        index += 1\n",
    "        if not output.isSetMetaId():\n",
    "            output.setMetaId(generateMetaId(index))"
   ]
  },
  {
   "cell_type": "markdown",
   "metadata": {},
   "source": [
    "## Add notes to transition"
   ]
  },
  {
   "cell_type": "code",
   "execution_count": 6,
   "metadata": {},
   "outputs": [
    {
     "data": {
      "text/plain": [
       "1"
      ]
     },
     "execution_count": 6,
     "metadata": {},
     "output_type": "execute_result"
    }
   ],
   "source": [
    "# Excel file with the rules and comments\n",
    "rules_df = pd.read_excel(xlsx_file, sheet_name='Logical_rules')\n",
    "\n",
    "# Add comments from Excel file to transition notes\n",
    "for index, row in rules_df.iterrows():\n",
    "    if row['Comments'] is not np.nan:\n",
    "        transition_id = f\"tr_{row['Node']}\"\n",
    "        transition = model.getTransition(transition_id)\n",
    "        if transition is not None:\n",
    "            transition.setNotes(row['Comments'], True)"
   ]
  },
  {
   "cell_type": "markdown",
   "metadata": {},
   "source": [
    "## Add annotations and notes to transition inputs"
   ]
  },
  {
   "cell_type": "code",
   "execution_count": 15,
   "metadata": {},
   "outputs": [
    {
     "data": {
      "text/plain": [
       "1"
      ]
     },
     "execution_count": 15,
     "metadata": {},
     "output_type": "execute_result"
    }
   ],
   "source": [
    "# Excel file with the transition annotations\n",
    "transitions_df = pd.read_excel(xlsx_file, sheet_name='Interactions_annotations')\n",
    "\n",
    "# Go over each row in the transitions_df\n",
    "for index, row in transitions_df.iterrows():\n",
    "    # Get the transition id\n",
    "    transition_id = f\"tr_{row['Target']}\"\n",
    "    oneTransition = model.getTransition(transition_id)\n",
    "    if oneTransition is not None:\n",
    "        # Get the transition inputs\n",
    "        oneInput = oneTransition.getListOfInputs().getBySpecies(row['Source'])\n",
    "        if oneInput is not None:\n",
    "            meta_id = oneInput.getMetaId()\n",
    "            list_of_ids = str(row['PMIDs']).split(';')\n",
    "\n",
    "            # Add annotations\n",
    "            if len(list_of_ids) > 0:\n",
    "                AnnotationString = createAnnotationString(qualifier,knowledge_source,RDF_TAG,list_of_ids, meta_id)\n",
    "                oneInput.setAnnotation(AnnotationString)\n",
    "\n",
    "            # Add notes\n",
    "            if row['Comments'] is not np.nan:\n",
    "                oneInput.setNotes(row['Comments'], True)"
   ]
  },
  {
   "cell_type": "markdown",
   "metadata": {},
   "source": [
    "## Save the model"
   ]
  },
  {
   "cell_type": "code",
   "execution_count": 17,
   "metadata": {},
   "outputs": [
    {
     "data": {
      "text/plain": [
       "1"
      ]
     },
     "execution_count": 17,
     "metadata": {},
     "output_type": "execute_result"
    }
   ],
   "source": [
    "libsbml.writeSBMLToFile(document, save_file)"
   ]
  },
  {
   "cell_type": "code",
   "execution_count": null,
   "metadata": {},
   "outputs": [],
   "source": []
  },
  {
   "cell_type": "markdown",
   "metadata": {},
   "source": []
  },
  {
   "cell_type": "markdown",
   "metadata": {},
   "source": [
    "## Strip the annotations and notes"
   ]
  },
  {
   "cell_type": "code",
   "execution_count": 25,
   "metadata": {},
   "outputs": [
    {
     "data": {
      "text/plain": [
       "1"
      ]
     },
     "execution_count": 25,
     "metadata": {},
     "output_type": "execute_result"
    }
   ],
   "source": [
    "reader = libsbml.SBMLReader()\n",
    "document = reader.readSBML(save_file)\n",
    "model = document.getModel().getPlugin('qual')\n",
    "\n",
    "# Process species\n",
    "for species in model.getListOfQualitativeSpecies():\n",
    "    species.unsetAnnotation()\n",
    "    species.unsetNotes()\n",
    "\n",
    "# Process transitions\n",
    "for transition in model.getListOfTransitions():\n",
    "    transition.unsetAnnotation()\n",
    "    transition.unsetNotes()\n",
    "    for input in transition.getListOfInputs():\n",
    "        input.unsetAnnotation()\n",
    "        input.unsetNotes()\n",
    "    for output in transition.getListOfOutputs():\n",
    "        output.unsetAnnotation()\n",
    "        output.unsetNotes()\n",
    "\n",
    "libsbml.writeSBMLToFile(document, strip_file)"
   ]
  },
  {
   "cell_type": "markdown",
   "metadata": {},
   "source": [
    "## Test"
   ]
  },
  {
   "cell_type": "code",
   "execution_count": 16,
   "metadata": {},
   "outputs": [
    {
     "data": {
      "text/plain": [
       "'<annotation>This is a test</annotation>'"
      ]
     },
     "execution_count": 16,
     "metadata": {},
     "output_type": "execute_result"
    }
   ],
   "source": [
    "reader = libsbml.SBMLReader()\n",
    "document = reader.readSBML(sbml_file)\n",
    "model = document.getModel().getPlugin('qual')\n",
    "oneTransition = model.getTransition('tr_EGFR')\n",
    "oneInput = oneTransition.getListOfInputs().getBySpecies('EGF')\n",
    "meta_id = oneInput.getMetaId()\n",
    "list_of_ids = ['123456','789000']\n",
    "AnnotationString = createAnnotationString(qualifier,knowledge_source,list_of_ids, meta_id)\n",
    "oneInput.setAnnotation(AnnotationString)\n",
    "oneInput.setNotes('This is a notes test', True)"
   ]
  },
  {
   "cell_type": "code",
   "execution_count": 26,
   "metadata": {},
   "outputs": [
    {
     "name": "stdout",
     "output_type": "stream",
     "text": [
      "<annotation>\n",
      "  <rdf:RDF xmlns:rdf=\"http://www.w3.org/1999/02/22-rdf-syntax-ns#\" xmlns:bqbiol=\"http://biomodels.net/biology-qualifiers/\">\n",
      "    <rdf:Description rdf:about=\"#000000\">\n",
      "      <bqbiol:isDescribedBy>\n",
      "        <rdf:Bag>\n",
      "          <rdf:li rdf:resource=\"http://identifiers.org/pubmed/12954170\"/>\n",
      "          <rdf:li rdf:resource=\"http://identifiers.org/pubmed/7680558\"/>\n",
      "        </rdf:Bag>\n",
      "      </bqbiol:isDescribedBy>\n",
      "    </rdf:Description>\n",
      "  </rdf:RDF>\n",
      "</annotation>\n"
     ]
    }
   ],
   "source": [
    "anno = createAnnotationString(qualifier,knowledge_source,['12954170','7680558'],'000000')\n",
    "print(anno)"
   ]
  },
  {
   "cell_type": "code",
   "execution_count": 22,
   "metadata": {},
   "outputs": [
    {
     "name": "stdout",
     "output_type": "stream",
     "text": [
      "<annotation>\n",
      "  <rdf:RDF xmlns:rdf=\"http://www.w3.org/1999/02/22-rdf-syntax-ns#\" xmlns:dcterms=\"http://purl.org/dc/terms/\" xmlns:vCard=\"http://www.w3.org/2001/vcard-rdf/3.0#\" xmlns:vCard4=\"http://www.w3.org/2006/vcard/ns#\" xmlns:bqbiol=\"http://biomodels.net/biology-qualifiers/\" xmlns:bqmodel=\"http://biomodels.net/model-qualifiers/\">\n",
      "    <rdf:Description rdf:about=\"#metaid_0000003\">\n",
      "      <bqbiol:is>\n",
      "        <rdf:Bag>\n",
      "          <rdf:li rdf:resource=\"http://identifiers.org/uniprot/P01133\"/>\n",
      "        </rdf:Bag>\n",
      "      </bqbiol:is>\n",
      "    </rdf:Description>\n",
      "  </rdf:RDF>\n",
      "</annotation>\n"
     ]
    }
   ],
   "source": [
    "reader = libsbml.SBMLReader()\n",
    "document = reader.readSBML(save_file)\n",
    "model = document.getModel().getPlugin('qual')\n",
    "oneSpecies = model.getQualitativeSpecies('EGF')\n",
    "print(oneSpecies.getAnnotationString())"
   ]
  },
  {
   "cell_type": "code",
   "execution_count": 23,
   "metadata": {},
   "outputs": [
    {
     "name": "stdout",
     "output_type": "stream",
     "text": [
      "\n"
     ]
    }
   ],
   "source": [
    "oneSpecies.unsetAnnotation()\n",
    "print(oneSpecies.getAnnotationString())"
   ]
  }
 ],
 "metadata": {
  "kernelspec": {
   "display_name": "amas",
   "language": "python",
   "name": "python3"
  },
  "language_info": {
   "codemirror_mode": {
    "name": "ipython",
    "version": 3
   },
   "file_extension": ".py",
   "mimetype": "text/x-python",
   "name": "python",
   "nbconvert_exporter": "python",
   "pygments_lexer": "ipython3",
   "version": "3.12.8"
  }
 },
 "nbformat": 4,
 "nbformat_minor": 2
}
