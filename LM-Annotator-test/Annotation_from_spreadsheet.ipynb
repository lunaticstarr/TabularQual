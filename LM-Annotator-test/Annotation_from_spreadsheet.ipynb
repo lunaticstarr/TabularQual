{
 "cells": [
  {
   "cell_type": "code",
   "execution_count": 1,
   "metadata": {},
   "outputs": [],
   "source": [
    "import libsbml\n",
    "import pandas as pd\n",
    "import numpy as np\n",
    "from tools import *"
   ]
  },
  {
   "cell_type": "code",
   "execution_count": 2,
   "metadata": {},
   "outputs": [],
   "source": [
    "model_name = \"example\"\n",
    "xlsx_file = f\"Sources/Template_Toy.xlsx\"\n",
    "sbml_file = f\"Sources/{model_name}_boolnet.sbml\"\n",
    "save_file = f\"Models/{model_name}.sbml\"\n",
    "strip_file = f\"Models/{model_name}_no_annotation.sbml\""
   ]
  },
  {
   "cell_type": "code",
   "execution_count": 4,
   "metadata": {},
   "outputs": [],
   "source": [
    "# Load SBML-qual model\n",
    "reader = libsbml.SBMLReader()\n",
    "document = reader.readSBML(sbml_file)\n",
    "model = document.getModel().getPlugin('qual')"
   ]
  },
  {
   "cell_type": "markdown",
   "metadata": {},
   "source": [
    "## Model statistics"
   ]
  },
  {
   "cell_type": "code",
   "execution_count": 5,
   "metadata": {},
   "outputs": [
    {
     "name": "stdout",
     "output_type": "stream",
     "text": [
      "Number of qualitative species: 5\n",
      "Number of transitions: 5\n"
     ]
    }
   ],
   "source": [
    "num_species = model.getNumQualitativeSpecies()\n",
    "num_transitions = model.getNumTransitions()\n",
    "print(f\"Number of qualitative species: {num_species}\")\n",
    "print(f\"Number of transitions: {num_transitions}\")"
   ]
  },
  {
   "cell_type": "markdown",
   "metadata": {},
   "source": [
    "## Add metaids to all components\n"
   ]
  },
  {
   "cell_type": "code",
   "execution_count": 6,
   "metadata": {},
   "outputs": [],
   "source": [
    "# Ensure each component in the SBML model has a metaid.\n",
    "def generateMetaId(index):\n",
    "    return f\"metaid_{index:07d}\"\n",
    "    \n",
    "index = 1\n",
    "# Process the model\n",
    "document.getModel().setMetaId(generateMetaId(index))\n",
    "\n",
    "# Process species\n",
    "for species in model.getListOfQualitativeSpecies():\n",
    "    index += 1\n",
    "    if not species.isSetMetaId():\n",
    "        species.setMetaId(generateMetaId(index))\n",
    "\n",
    "# Process transitions\n",
    "for transition in model.getListOfTransitions():\n",
    "    index += 1\n",
    "    if not transition.isSetMetaId():\n",
    "        transition.setMetaId(generateMetaId(index))\n",
    "    \n",
    "    # set metaid for inputs of transition\n",
    "    for input in transition.getListOfInputs():\n",
    "        index += 1\n",
    "        if not input.isSetMetaId():\n",
    "            input.setMetaId(generateMetaId(index))\n",
    "    \n",
    "    # set metaid for outputs of transition\n",
    "    for output in transition.getListOfOutputs():\n",
    "        index += 1\n",
    "        if not output.isSetMetaId():\n",
    "            output.setMetaId(generateMetaId(index))\n",
    "\n",
    "# libsbml.writeSBMLToFile(document, 'test.sbml')"
   ]
  },
  {
   "cell_type": "markdown",
   "metadata": {},
   "source": [
    "## Species annotation from spreadsheet"
   ]
  },
  {
   "cell_type": "code",
   "execution_count": 7,
   "metadata": {},
   "outputs": [
    {
     "data": {
      "text/html": [
       "<div>\n",
       "<style scoped>\n",
       "    .dataframe tbody tr th:only-of-type {\n",
       "        vertical-align: middle;\n",
       "    }\n",
       "\n",
       "    .dataframe tbody tr th {\n",
       "        vertical-align: top;\n",
       "    }\n",
       "\n",
       "    .dataframe thead th {\n",
       "        text-align: right;\n",
       "    }\n",
       "</style>\n",
       "<table border=\"1\" class=\"dataframe\">\n",
       "  <thead>\n",
       "    <tr style=\"text-align: right;\">\n",
       "      <th></th>\n",
       "      <th>Compartment</th>\n",
       "      <th>ID</th>\n",
       "      <th>Name</th>\n",
       "      <th>Type</th>\n",
       "      <th>maxLevel</th>\n",
       "      <th>Constant</th>\n",
       "      <th>Relation</th>\n",
       "      <th>Resource</th>\n",
       "      <th>Identifier</th>\n",
       "      <th>Relation2</th>\n",
       "      <th>Resource2</th>\n",
       "      <th>Identifier2</th>\n",
       "      <th>Notes</th>\n",
       "      <th>Comments</th>\n",
       "    </tr>\n",
       "  </thead>\n",
       "  <tbody>\n",
       "    <tr>\n",
       "      <th>0</th>\n",
       "      <td>cytosol</td>\n",
       "      <td>A</td>\n",
       "      <td>RELA</td>\n",
       "      <td>Internal</td>\n",
       "      <td>1</td>\n",
       "      <td>false</td>\n",
       "      <td>is</td>\n",
       "      <td>uniprot</td>\n",
       "      <td>P06539</td>\n",
       "      <td></td>\n",
       "      <td></td>\n",
       "      <td></td>\n",
       "      <td>p65 subunit of the NF-κB complex</td>\n",
       "      <td>Hypothetical annotation</td>\n",
       "    </tr>\n",
       "    <tr>\n",
       "      <th>1</th>\n",
       "      <td>cytosol</td>\n",
       "      <td>B</td>\n",
       "      <td>NFKB1</td>\n",
       "      <td>Internal</td>\n",
       "      <td>1</td>\n",
       "      <td>false</td>\n",
       "      <td>is</td>\n",
       "      <td>uniprot</td>\n",
       "      <td>P19838</td>\n",
       "      <td></td>\n",
       "      <td></td>\n",
       "      <td></td>\n",
       "      <td>p50 subunit of the NF-κB complex</td>\n",
       "      <td>Hypothetical annotation</td>\n",
       "    </tr>\n",
       "    <tr>\n",
       "      <th>2</th>\n",
       "      <td>cytosol</td>\n",
       "      <td>C</td>\n",
       "      <td>NFκB_complex</td>\n",
       "      <td>Internal</td>\n",
       "      <td>1</td>\n",
       "      <td>false</td>\n",
       "      <td>hasPart</td>\n",
       "      <td>uniprot</td>\n",
       "      <td>P06539;P19838</td>\n",
       "      <td></td>\n",
       "      <td></td>\n",
       "      <td></td>\n",
       "      <td>RELA:p50 heterodimer</td>\n",
       "      <td>Hypothetical annotation</td>\n",
       "    </tr>\n",
       "    <tr>\n",
       "      <th>3</th>\n",
       "      <td>cytosol</td>\n",
       "      <td>D</td>\n",
       "      <td>IKK</td>\n",
       "      <td>input</td>\n",
       "      <td>1</td>\n",
       "      <td>true</td>\n",
       "      <td>is</td>\n",
       "      <td>uniprot</td>\n",
       "      <td>O14920</td>\n",
       "      <td></td>\n",
       "      <td></td>\n",
       "      <td></td>\n",
       "      <td>IKBKB</td>\n",
       "      <td>Hypothetical annotation</td>\n",
       "    </tr>\n",
       "    <tr>\n",
       "      <th>4</th>\n",
       "      <td>extracellular</td>\n",
       "      <td>E</td>\n",
       "      <td>Inflammatory response</td>\n",
       "      <td>output</td>\n",
       "      <td>1</td>\n",
       "      <td>false</td>\n",
       "      <td>is</td>\n",
       "      <td>go</td>\n",
       "      <td>GO:0006954</td>\n",
       "      <td>isVersionOf</td>\n",
       "      <td>go</td>\n",
       "      <td>GO:0005125</td>\n",
       "      <td>Pro-inflammatory cytokine expression</td>\n",
       "      <td>Hypothetical annotation</td>\n",
       "    </tr>\n",
       "  </tbody>\n",
       "</table>\n",
       "</div>"
      ],
      "text/plain": [
       "     Compartment ID                   Name      Type maxLevel Constant  \\\n",
       "0        cytosol  A                   RELA  Internal        1    false   \n",
       "1        cytosol  B                  NFKB1  Internal        1    false   \n",
       "2        cytosol  C           NFκB_complex  Internal        1    false   \n",
       "3        cytosol  D                    IKK     input        1     true   \n",
       "4  extracellular  E  Inflammatory response    output        1    false   \n",
       "\n",
       "  Relation Resource     Identifier    Relation2 Resource2 Identifier2  \\\n",
       "0       is  uniprot         P06539                                      \n",
       "1       is  uniprot         P19838                                      \n",
       "2  hasPart  uniprot  P06539;P19838                                      \n",
       "3       is  uniprot         O14920                                      \n",
       "4       is       go     GO:0006954  isVersionOf        go  GO:0005125   \n",
       "\n",
       "                                  Notes                 Comments  \n",
       "0      p65 subunit of the NF-κB complex  Hypothetical annotation  \n",
       "1      p50 subunit of the NF-κB complex  Hypothetical annotation  \n",
       "2                  RELA:p50 heterodimer  Hypothetical annotation  \n",
       "3                                 IKBKB  Hypothetical annotation  \n",
       "4  Pro-inflammatory cytokine expression  Hypothetical annotation  "
      ]
     },
     "execution_count": 7,
     "metadata": {},
     "output_type": "execute_result"
    }
   ],
   "source": [
    "# xlsx tab with the species annotations\n",
    "reference_df = pd.read_excel(xlsx_file, sheet_name='Nodes', dtype=str)\n",
    "reference_df.fillna('', inplace=True)\n",
    "reference_df"
   ]
  },
  {
   "cell_type": "markdown",
   "metadata": {},
   "source": [
    "### Add Notes to species"
   ]
  },
  {
   "cell_type": "code",
   "execution_count": 8,
   "metadata": {},
   "outputs": [],
   "source": [
    "# Go over each row in the reference_df\n",
    "for index, row in reference_df.iterrows():\n",
    "    # Get the species id\n",
    "    species_id = row['ID']\n",
    "    oneSpecies = model.getQualitativeSpecies(species_id)\n",
    "    if oneSpecies is not None:\n",
    "        if row['Notes'] != '':\n",
    "            oneSpecies.setNotes(row['Notes'], True)\n",
    "\n",
    "# libsbml.writeSBMLToFile(document, 'test.sbml')"
   ]
  },
  {
   "cell_type": "markdown",
   "metadata": {},
   "source": [
    "### Annotate biological identity"
   ]
  },
  {
   "cell_type": "code",
   "execution_count": 9,
   "metadata": {},
   "outputs": [
    {
     "name": "stdout",
     "output_type": "stream",
     "text": [
      "Added annotations to A\n",
      "Added annotations to B\n",
      "Added annotations to C\n",
      "Added annotations to D\n",
      "Added annotations to E\n"
     ]
    },
    {
     "data": {
      "text/plain": [
       "1"
      ]
     },
     "execution_count": 9,
     "metadata": {},
     "output_type": "execute_result"
    }
   ],
   "source": [
    "\"\"\"\n",
    "Add biological identifiers to species in the model based on reference DataFrame.\n",
    "Assuming no existing annotation in the model (otherwise, they will be overwritten)\n",
    "\n",
    "Parameters:\n",
    "-----------\n",
    "model: libsbml.Model\n",
    "    The SBML model to annotate\n",
    "reference_df: pandas.DataFrame\n",
    "    DataFrame containing species information with Relation, Resource, Identifier columns\n",
    "    May also contain Relation2, Resource2, Identifier2, etc. for multiple resources\n",
    "\"\"\"\n",
    "\n",
    "for index, row in reference_df.iterrows():\n",
    "    # Get the species id\n",
    "    species_id = row['ID']\n",
    "    oneSpecies = model.getQualitativeSpecies(species_id)\n",
    "    \n",
    "    if oneSpecies is None:\n",
    "        print(f\"Species {species_id} not found in model\")\n",
    "        continue  # Skip if species not found in model\n",
    "    \n",
    "    # Ensure species has a metaid\n",
    "    if not oneSpecies.isSetMetaId():\n",
    "        meta_id = f\"metaid_{index:07d}\"\n",
    "        oneSpecies.setMetaId(meta_id)\n",
    "    else:\n",
    "        meta_id = oneSpecies.getMetaId()\n",
    "    \n",
    "    # Dictionary to collect all identifiers by relation and resource\n",
    "    all_annotations = {}\n",
    "    \n",
    "    # Process primary identifiers if they exist\n",
    "    if pd.notna(row.get('Resource', None)) and pd.notna(row.get('Identifier', None)):\n",
    "        relation = row['Relation'] if pd.notna(row['Relation']) else 'is'\n",
    "        resource = row['Resource']\n",
    "        \n",
    "        # Initialize the dictionary entry if it doesn't exist\n",
    "        if relation not in all_annotations:\n",
    "            all_annotations[relation] = {}\n",
    "        if resource not in all_annotations[relation]:\n",
    "            all_annotations[relation][resource] = []\n",
    "            \n",
    "        # Add identifiers to the list\n",
    "        identifiers = str(row['Identifier']).split(';')\n",
    "        all_annotations[relation][resource].extend([id.strip() for id in identifiers if id.strip()])\n",
    "    \n",
    "    # Process additional identifiers (Relation2, Resource2, Identifier2, etc.)\n",
    "    suffix = 2\n",
    "    while f'Resource{suffix}' in row and pd.notna(row[f'Resource{suffix}']) and \\\n",
    "            f'Identifier{suffix}' in row and pd.notna(row[f'Identifier{suffix}']):\n",
    "        \n",
    "        relation = row[f'Relation{suffix}'] if pd.notna(row[f'Relation{suffix}']) else 'is'\n",
    "        resource = row[f'Resource{suffix}']\n",
    "        \n",
    "        # Initialize the dictionary entry if it doesn't exist\n",
    "        if relation not in all_annotations:\n",
    "            all_annotations[relation] = {}\n",
    "        if resource not in all_annotations[relation]:\n",
    "            all_annotations[relation][resource] = []\n",
    "        \n",
    "        # Add identifiers to the list\n",
    "        identifiers = str(row[f'Identifier{suffix}']).split(';')\n",
    "        all_annotations[relation][resource].extend([id.strip() for id in identifiers if id.strip()])\n",
    "        \n",
    "        suffix += 1\n",
    "\n",
    "    # Skip if all_annotations is empty or only contains empty values\n",
    "    if all_annotations and not (len(all_annotations) == 1 and '' in all_annotations and \n",
    "                                len(all_annotations['']) == 1 and '' in all_annotations[''] and \n",
    "                                not all_annotations['']['']): \n",
    "        annotation_string = createAnnotationStringFromDict(all_annotations, meta_id)\n",
    "        # Set the complete annotation\n",
    "        oneSpecies.setAnnotation(annotation_string)\n",
    "        print(f\"Added annotations to {species_id}\")\n",
    "\n",
    "libsbml.writeSBMLToFile(document, 'test.sbml')"
   ]
  },
  {
   "cell_type": "markdown",
   "metadata": {},
   "source": [
    "### Check which species have no annotation"
   ]
  },
  {
   "cell_type": "code",
   "execution_count": 10,
   "metadata": {},
   "outputs": [
    {
     "name": "stdout",
     "output_type": "stream",
     "text": [
      "0\n"
     ]
    }
   ],
   "source": [
    "unannotated_species = []\n",
    "for species in model.getListOfQualitativeSpecies():\n",
    "    if not species.isSetAnnotation():\n",
    "        unannotated_species.append(species.getId())\n",
    "print(len(unannotated_species))"
   ]
  },
  {
   "cell_type": "markdown",
   "metadata": {},
   "source": [
    "## Transition annotation from spreadsheet\n"
   ]
  },
  {
   "cell_type": "code",
   "execution_count": 11,
   "metadata": {},
   "outputs": [
    {
     "data": {
      "text/html": [
       "<div>\n",
       "<style scoped>\n",
       "    .dataframe tbody tr th:only-of-type {\n",
       "        vertical-align: middle;\n",
       "    }\n",
       "\n",
       "    .dataframe tbody tr th {\n",
       "        vertical-align: top;\n",
       "    }\n",
       "\n",
       "    .dataframe thead th {\n",
       "        text-align: right;\n",
       "    }\n",
       "</style>\n",
       "<table border=\"1\" class=\"dataframe\">\n",
       "  <thead>\n",
       "    <tr style=\"text-align: right;\">\n",
       "      <th></th>\n",
       "      <th>Target</th>\n",
       "      <th>Level</th>\n",
       "      <th>Rules</th>\n",
       "      <th>Relation</th>\n",
       "      <th>Resource</th>\n",
       "      <th>Identifier</th>\n",
       "      <th>Notes</th>\n",
       "      <th>Comments</th>\n",
       "    </tr>\n",
       "  </thead>\n",
       "  <tbody>\n",
       "    <tr>\n",
       "      <th>0</th>\n",
       "      <td>A</td>\n",
       "      <td>1</td>\n",
       "      <td>A | (D &amp; !C)</td>\n",
       "      <td>isDescribedBy</td>\n",
       "      <td>pubmed</td>\n",
       "      <td>9660950;20300203</td>\n",
       "      <td>RELA can be self-sustaining or activated by th...</td>\n",
       "      <td>Hypothetical annotation</td>\n",
       "    </tr>\n",
       "    <tr>\n",
       "      <th>1</th>\n",
       "      <td>B</td>\n",
       "      <td>1</td>\n",
       "      <td>A</td>\n",
       "      <td>isDescribedBy</td>\n",
       "      <td>pubmed</td>\n",
       "      <td>9417120</td>\n",
       "      <td>NFKB1 expression is induced by RELA.</td>\n",
       "      <td>Hypothetical annotation</td>\n",
       "    </tr>\n",
       "    <tr>\n",
       "      <th>2</th>\n",
       "      <td>C</td>\n",
       "      <td>1</td>\n",
       "      <td>A &amp; B</td>\n",
       "      <td>isDescribedBy</td>\n",
       "      <td>pubmed</td>\n",
       "      <td>9450761</td>\n",
       "      <td>The NF-κB complex forms when both RELA and NFK...</td>\n",
       "      <td>Hypothetical annotation</td>\n",
       "    </tr>\n",
       "    <tr>\n",
       "      <th>3</th>\n",
       "      <td>D</td>\n",
       "      <td>1</td>\n",
       "      <td>D</td>\n",
       "      <td>isDescribedBy</td>\n",
       "      <td>pubmed</td>\n",
       "      <td>20300203</td>\n",
       "      <td>The IKK complex is considered an external or c...</td>\n",
       "      <td>Hypothetical annotation</td>\n",
       "    </tr>\n",
       "    <tr>\n",
       "      <th>4</th>\n",
       "      <td>E</td>\n",
       "      <td>1</td>\n",
       "      <td>C</td>\n",
       "      <td>isDescribedBy</td>\n",
       "      <td>pubmed</td>\n",
       "      <td>2183031</td>\n",
       "      <td>IL6 expression is induced by the active NF-κB ...</td>\n",
       "      <td>Hypothetical annotation</td>\n",
       "    </tr>\n",
       "  </tbody>\n",
       "</table>\n",
       "</div>"
      ],
      "text/plain": [
       "  Target Level         Rules       Relation Resource        Identifier  \\\n",
       "0      A     1  A | (D & !C)  isDescribedBy   pubmed  9660950;20300203   \n",
       "1      B     1             A  isDescribedBy   pubmed           9417120   \n",
       "2      C     1         A & B  isDescribedBy   pubmed           9450761   \n",
       "3      D     1             D  isDescribedBy   pubmed          20300203   \n",
       "4      E     1             C  isDescribedBy   pubmed           2183031   \n",
       "\n",
       "                                               Notes                 Comments  \n",
       "0  RELA can be self-sustaining or activated by th...  Hypothetical annotation  \n",
       "1               NFKB1 expression is induced by RELA.  Hypothetical annotation  \n",
       "2  The NF-κB complex forms when both RELA and NFK...  Hypothetical annotation  \n",
       "3  The IKK complex is considered an external or c...  Hypothetical annotation  \n",
       "4  IL6 expression is induced by the active NF-κB ...  Hypothetical annotation  "
      ]
     },
     "execution_count": 11,
     "metadata": {},
     "output_type": "execute_result"
    }
   ],
   "source": [
    "# xlsx tab with the species annotations\n",
    "reference_df = pd.read_excel(xlsx_file, sheet_name='Transitions', dtype=str)\n",
    "reference_df.fillna('', inplace=True)\n",
    "reference_df"
   ]
  },
  {
   "cell_type": "markdown",
   "metadata": {},
   "source": [
    "### Add Notes to transitions"
   ]
  },
  {
   "cell_type": "code",
   "execution_count": 12,
   "metadata": {},
   "outputs": [
    {
     "name": "stdout",
     "output_type": "stream",
     "text": [
      "Species: A -> Transition: tr_A\n",
      "Species: B -> Transition: tr_B\n",
      "Species: C -> Transition: tr_C\n",
      "Species: D -> Transition: tr_D\n",
      "Species: E -> Transition: tr_E\n"
     ]
    }
   ],
   "source": [
    "# Create a dictionary mapping from QualitativeSpecies to transition Id\n",
    "target_to_transition = {}\n",
    "for transition in model.getListOfTransitions():\n",
    "    transition_id = transition.getId()\n",
    "    target_species = transition.getOutput(0).getQualitativeSpecies()\n",
    "    target_to_transition[target_species] = transition_id\n",
    "\n",
    "# Print the mapping for verification\n",
    "for species, transition_id in target_to_transition.items():\n",
    "    print(f\"Species: {species} -> Transition: {transition_id}\")"
   ]
  },
  {
   "cell_type": "code",
   "execution_count": 13,
   "metadata": {},
   "outputs": [],
   "source": [
    "# Go over each row in the reference_df\n",
    "for index, row in reference_df.iterrows():\n",
    "    # Get the species id\n",
    "    transition_id = target_to_transition[row['Target']]\n",
    "    oneTransition = model.getTransition(transition_id)\n",
    "    if oneTransition is not None:\n",
    "        if row['Notes'] != '':\n",
    "            oneTransition.setNotes(row['Notes'], True)\n",
    "\n",
    "# libsbml.writeSBMLToFile(document, 'test.sbml')"
   ]
  },
  {
   "cell_type": "markdown",
   "metadata": {},
   "source": [
    "### Annotate transition annotations"
   ]
  },
  {
   "cell_type": "code",
   "execution_count": 14,
   "metadata": {},
   "outputs": [
    {
     "name": "stdout",
     "output_type": "stream",
     "text": [
      "Added annotations to tr_A\n",
      "Added annotations to tr_B\n",
      "Added annotations to tr_C\n",
      "Added annotations to tr_D\n",
      "Added annotations to tr_E\n"
     ]
    },
    {
     "data": {
      "text/plain": [
       "1"
      ]
     },
     "execution_count": 14,
     "metadata": {},
     "output_type": "execute_result"
    }
   ],
   "source": [
    "\"\"\"\n",
    "Add biological identifiers to transition in the model based on reference DataFrame.\n",
    "Assuming no existing annotation in the model (otherwise, they will be overwritten)\n",
    "\n",
    "Parameters:\n",
    "-----------\n",
    "model: libsbml.Model\n",
    "    The SBML model to annotate\n",
    "reference_df: pandas.DataFrame\n",
    "    DataFrame containing transition information with Relation, Resource, Identifier columns\n",
    "    May also contain Relation2, Resource2, Identifier2, etc. for multiple resources\n",
    "\"\"\"\n",
    "\n",
    "for index, row in reference_df.iterrows():\n",
    "    # Get the species id\n",
    "    transition_id = target_to_transition[row['Target']]\n",
    "    oneTransition = model.getTransition(transition_id)\n",
    "    \n",
    "    if oneTransition is None:\n",
    "        print(f\"Transition targeting {row['Target']} not found in model\")\n",
    "        continue  # Skip if transition not found in model\n",
    "    \n",
    "    # Ensure transition has a metaid\n",
    "    if not oneTransition.isSetMetaId():\n",
    "        meta_id = f\"metaid_{index:07d}\"\n",
    "        oneTransition.setMetaId(meta_id)\n",
    "    else:\n",
    "        meta_id = oneTransition.getMetaId()\n",
    "    \n",
    "    # Dictionary to collect all identifiers by relation and resource\n",
    "    all_annotations = {}\n",
    "    \n",
    "    # Process primary identifiers if they exist\n",
    "    if pd.notna(row.get('Resource', None)) and pd.notna(row.get('Identifier', None)):\n",
    "        relation = row['Relation'] if pd.notna(row['Relation']) else 'isDescribedBy'\n",
    "        resource = row['Resource']\n",
    "        \n",
    "        # Initialize the dictionary entry if it doesn't exist\n",
    "        if relation not in all_annotations:\n",
    "            all_annotations[relation] = {}\n",
    "        if resource not in all_annotations[relation]:\n",
    "            all_annotations[relation][resource] = []\n",
    "            \n",
    "        # Add identifiers to the list\n",
    "        identifiers = str(row['Identifier']).split(';')\n",
    "        all_annotations[relation][resource].extend([id.strip() for id in identifiers if id.strip()])\n",
    "    \n",
    "    # Process additional identifiers (Relation2, Resource2, Identifier2, etc.)\n",
    "    suffix = 2\n",
    "    while f'Resource{suffix}' in row and pd.notna(row[f'Resource{suffix}']) and \\\n",
    "            f'Identifier{suffix}' in row and pd.notna(row[f'Identifier{suffix}']):\n",
    "        \n",
    "        relation = row[f'Relation{suffix}'] if pd.notna(row[f'Relation{suffix}']) else 'is'\n",
    "        resource = row[f'Resource{suffix}']\n",
    "        \n",
    "        # Initialize the dictionary entry if it doesn't exist\n",
    "        if relation not in all_annotations:\n",
    "            all_annotations[relation] = {}\n",
    "        if resource not in all_annotations[relation]:\n",
    "            all_annotations[relation][resource] = []\n",
    "        \n",
    "        # Add identifiers to the list\n",
    "        identifiers = str(row[f'Identifier{suffix}']).split(';')\n",
    "        all_annotations[relation][resource].extend([id.strip() for id in identifiers if id.strip()])\n",
    "        \n",
    "        suffix += 1\n",
    "\n",
    "    # Skip if all_annotations is empty or only contains empty values\n",
    "    if all_annotations and not (len(all_annotations) == 1 and '' in all_annotations and \n",
    "                                len(all_annotations['']) == 1 and '' in all_annotations[''] and \n",
    "                                not all_annotations['']['']): \n",
    "        annotation_string = createAnnotationStringFromDict(all_annotations, meta_id)\n",
    "        # Set the complete annotation\n",
    "        oneTransition.setAnnotation(annotation_string)\n",
    "        print(f\"Added annotations to {transition_id}\")\n",
    "\n",
    "libsbml.writeSBMLToFile(document, 'test.sbml')"
   ]
  },
  {
   "cell_type": "markdown",
   "metadata": {},
   "source": [
    "## Save the model"
   ]
  },
  {
   "cell_type": "code",
   "execution_count": 15,
   "metadata": {},
   "outputs": [
    {
     "data": {
      "text/plain": [
       "1"
      ]
     },
     "execution_count": 15,
     "metadata": {},
     "output_type": "execute_result"
    }
   ],
   "source": [
    "libsbml.writeSBMLToFile(document, save_file)"
   ]
  },
  {
   "cell_type": "markdown",
   "metadata": {},
   "source": [
    "## Strip annotations and notes"
   ]
  },
  {
   "cell_type": "code",
   "execution_count": 24,
   "metadata": {},
   "outputs": [
    {
     "data": {
      "text/plain": [
       "1"
      ]
     },
     "execution_count": 24,
     "metadata": {},
     "output_type": "execute_result"
    }
   ],
   "source": [
    "model_name = \"Faure2006\"\n",
    "save_file = f\"Models/{model_name}.sbml\"\n",
    "strip_file = f\"Models/{model_name}_no_annotation.sbml\"\n",
    "\n",
    "reader = libsbml.SBMLReader()\n",
    "document = reader.readSBML(save_file)\n",
    "model = document.getModel().getPlugin('qual')\n",
    "\n",
    "# Process species\n",
    "for species in model.getListOfQualitativeSpecies():\n",
    "    species.unsetAnnotation()\n",
    "    species.unsetNotes()\n",
    "\n",
    "# Process transitions\n",
    "for transition in model.getListOfTransitions():\n",
    "    transition.unsetAnnotation()\n",
    "    transition.unsetNotes()\n",
    "    for input in transition.getListOfInputs():\n",
    "        input.unsetAnnotation()\n",
    "        input.unsetNotes()\n",
    "    for output in transition.getListOfOutputs():\n",
    "        output.unsetAnnotation()\n",
    "        output.unsetNotes()\n",
    "\n",
    "libsbml.writeSBMLToFile(document, strip_file)"
   ]
  },
  {
   "cell_type": "markdown",
   "metadata": {},
   "source": [
    "## Test"
   ]
  },
  {
   "cell_type": "code",
   "execution_count": null,
   "metadata": {},
   "outputs": [],
   "source": [
    "def merge_annotations(species, new_annotation_string, meta_id):\n",
    "    \"\"\"\n",
    "    Properly merge a new annotation string with existing species annotations.\n",
    "    \n",
    "    Parameters:\n",
    "    -----------\n",
    "    species: libsbml.QualitativeSpecies\n",
    "        The species to modify\n",
    "    new_annotation_string: str\n",
    "        The new annotation to add\n",
    "    meta_id: str\n",
    "        The meta ID of the species\n",
    "        \n",
    "    Returns:\n",
    "    --------\n",
    "    bool\n",
    "        True if successful, False otherwise\n",
    "    \"\"\"\n",
    "    import re\n",
    "    \n",
    "    # If there are no existing annotations, just set the new one\n",
    "    if not species.isSetAnnotation():\n",
    "        species.setAnnotation(new_annotation_string)\n",
    "        return True\n",
    "    \n",
    "    current_annotation = species.getAnnotationString()\n",
    "    \n",
    "    # Extract just the bag content from the new annotation\n",
    "    bag_pattern = re.compile(r'<bqbiol:[^>]+>\\s*<rdf:Bag>(.+?)</rdf:Bag>\\s*</bqbiol:[^>]+>', re.DOTALL)\n",
    "    match = bag_pattern.search(new_annotation_string)\n",
    "    \n",
    "    if not match:\n",
    "        return False\n",
    "    \n",
    "    bag_content = match.group(1).strip()\n",
    "    qualifier_match = re.search(r'<bqbiol:([^>]+)>', new_annotation_string)\n",
    "    qualifier = qualifier_match.group(1) if qualifier_match else \"is\"\n",
    "    \n",
    "    # Check if the qualifier already exists in the current annotation\n",
    "    qualifier_pattern = re.compile(f'<bqbiol:{qualifier}>[^<]*<rdf:Bag>(.+?)</rdf:Bag>[^<]*</bqbiol:{qualifier}>', re.DOTALL)\n",
    "    qualifier_match = qualifier_pattern.search(current_annotation)\n",
    "    \n",
    "    if qualifier_match:\n",
    "        # Add to existing qualifier bag\n",
    "        existing_bag = qualifier_match.group(1)\n",
    "        new_bag = existing_bag + bag_content\n",
    "        updated_annotation = current_annotation.replace(existing_bag, new_bag)\n",
    "        species.setAnnotation(updated_annotation)\n",
    "    else:\n",
    "        # Add as a new qualifier\n",
    "        insertion_point = current_annotation.find('</rdf:Description>')\n",
    "        if insertion_point > 0:\n",
    "            # Construct new qualifier block\n",
    "            new_qualifier_block = f'<bqbiol:{qualifier}><rdf:Bag>{bag_content}</rdf:Bag></bqbiol:{qualifier}>'\n",
    "            \n",
    "            # Insert before closing tags\n",
    "            updated_annotation = current_annotation[:insertion_point] + new_qualifier_block + current_annotation[insertion_point:]\n",
    "            species.setAnnotation(updated_annotation)\n",
    "        else:\n",
    "            return False\n",
    "    \n",
    "    return True"
   ]
  },
  {
   "cell_type": "markdown",
   "metadata": {},
   "source": []
  }
 ],
 "metadata": {
  "kernelspec": {
   "display_name": "amas",
   "language": "python",
   "name": "python3"
  },
  "language_info": {
   "codemirror_mode": {
    "name": "ipython",
    "version": 3
   },
   "file_extension": ".py",
   "mimetype": "text/x-python",
   "name": "python",
   "nbconvert_exporter": "python",
   "pygments_lexer": "ipython3",
   "version": "3.12.8"
  }
 },
 "nbformat": 4,
 "nbformat_minor": 2
}
