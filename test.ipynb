{
 "cells": [
  {
   "cell_type": "code",
   "execution_count": 1,
   "id": "680a90a0",
   "metadata": {},
   "outputs": [],
   "source": [
    "from converter.convert_spreadsheet_to_sbml import convert_spreadsheet_to_sbml\n",
    "from converter.spreadsheet_reader import read_spreadsheet_to_model\n",
    "from converter.sbml_writer import write_sbml\n",
    "\n",
    "table_path = \"table/Faure2006_MammalianCellCycle.xlsx\"\n",
    "sbml_path = \"sbml/Faure2006_MammalianCellCycle.sbml\""
   ]
  },
  {
   "cell_type": "code",
   "execution_count": 2,
   "id": "b545ddd1",
   "metadata": {},
   "outputs": [
    {
     "name": "stdout",
     "output_type": "stream",
     "text": [
      "10 species found.\n",
      "10 transitions found.\n",
      "35 interactions found.\n"
     ]
    },
    {
     "data": {
      "text/plain": [
       "ModelInfo(model_id='Faure2006', name='Mammalian Cell Cycle 2006', source_urls=['https://research.cellcollective.org/dashboard#module/mammalian-cell-cycle-2006'], described_by=['pubmed:16873462', 'DOI:10.1093/bioinformatics/btl210'], derived_from=['pubmed:15363676', 'DOI:10.1016/j.jtbi.2004.04.039', 'biomodels.db:MODEL2006080001'], biological_processes=['GO:0007049'], taxons=['BAO:0000362', 'taxonomy:40674'], created_iso='2006-07-15T00:00:00Z', modified_iso='2025-08-06T17:00:00Z', creators=[Person(family_name='Fauré', given_name='Adrien', organization='\"Institut de Biologie du Développement de Marseille-Luminy', email='Campus scientifique de Luminy\"'), Person(family_name='Thieffry', given_name='Denis', organization='\"Institut de Biologie du Développement de Marseille-Luminy', email='Campus scientifique de Luminy')], contributors=[], versions=[], notes=['Mammalian Cell Cycle 2006\\n\\nTaxonomy: 40674 (Mammals)\\nFormalism: Boolean model\\nSpecies: 10\\nInputs: 1\\nTransitions: 10\\nInteractions: 35\\nPublication: https://doi.org/10.1093/bioinformatics/btl210\\nSource: https://research.cellcollective.org/dashboard#module/mammalian-cell-cycle-2006\\nDescription: See publication\\nKeywords: Cell cycle, Boolean model\\n\\nBiological process: \\nThe cell cycle involves a succession of molecular events leading to\\nthe reproduction of the genome of a cell (Synthesis or S phase) and\\nits division into two daughter cells (Mitosis, or M phase). The M\\nphase itself encompasses different sub-phases (prophase, meta-\\nphase, anaphase, telophase) characterised by specific chromosomal\\nand nuclear changes (respectively: condensation of the chromatin,\\nalignment of the chromosomes, separation of the sister chromatids,\\nand formation of the two daughter nuclei). The S and M phases are\\npreceded by two gap phases, called G1 and G2 respectively (for a\\nreview, see, for example, Tessema et al., 2004). These events\\nare very well known and can easily be monitored with an optical\\nmicroscope.\\n\\nModel description:\\nThis model is a Boolean model of the G1/S restriction point control of mammalian cell cycle developed by Fauré et al.'])"
      ]
     },
     "execution_count": 2,
     "metadata": {},
     "output_type": "execute_result"
    }
   ],
   "source": [
    "m = read_spreadsheet_to_model(table_path)\n",
    "m.model"
   ]
  },
  {
   "cell_type": "code",
   "execution_count": 3,
   "id": "a5337832",
   "metadata": {},
   "outputs": [
    {
     "data": {
      "text/plain": [
       "{'Cdc20': Species(species_id='Cdc20', name='APC/C activator protein CDC20', compartment='cytosol', constant=None, initial_level=None, max_level=None, annotations=[('is', 'uniprot:P26309'), ('isHomologTo', 'uniprot:Q12834')], notes=[]),\n",
       " 'Cdh1': Species(species_id='Cdh1', name='PC/C activator protein CDH1', compartment='cytosol', constant=None, initial_level=None, max_level=None, annotations=[('is', 'uniprot:P53197'), ('isHomologTo', 'uniprot:Q9UM11')], notes=[]),\n",
       " 'CycA': Species(species_id='CycA', name='cdk2/Cyclin A', compartment='cytosol', constant=None, initial_level=None, max_level=None, annotations=[], notes=[]),\n",
       " 'CycB': Species(species_id='CycB', name=None, compartment='cytosol', constant=None, initial_level=None, max_level=None, annotations=[], notes=[]),\n",
       " 'CycD': Species(species_id='CycD', name='cdk4/6-Cyclin D', compartment='cytosol', constant=None, initial_level=None, max_level=None, annotations=[], notes=[]),\n",
       " 'CycE': Species(species_id='CycE', name='cdk2/Cyclin E', compartment='cytosol', constant=None, initial_level=None, max_level=None, annotations=[], notes=[]),\n",
       " 'E2F': Species(species_id='E2F', name=None, compartment='cytosol', constant=None, initial_level=None, max_level=None, annotations=[], notes=[]),\n",
       " 'p27': Species(species_id='p27', name='CDKN1B', compartment='cytosol', constant=None, initial_level=None, max_level=None, annotations=[('is', 'uniprot:P46527')], notes=[]),\n",
       " 'Rb': Species(species_id='Rb', name='Retinoblastoma 1', compartment='cytosol', constant=None, initial_level=None, max_level=None, annotations=[('is', 'uniprot:P06400'), ('encodes', 'ncbigene:5925')], notes=[]),\n",
       " 'UbcH10': Species(species_id='UbcH10', name='E2 ubiquitin conjugating enzyme UbcH10', compartment='cytosol', constant=None, initial_level=None, max_level=None, annotations=[('is', 'uniprot:O00762')], notes=[])}"
      ]
     },
     "execution_count": 3,
     "metadata": {},
     "output_type": "execute_result"
    }
   ],
   "source": [
    "m.species"
   ]
  },
  {
   "cell_type": "code",
   "execution_count": 4,
   "id": "0307d848",
   "metadata": {},
   "outputs": [
    {
     "data": {
      "text/plain": [
       "[Transition(transition_id='tr_Cdc20', name=None, target='Cdc20', level=None, rule='CycB', annotations=[('isDescribedBy', 'pubmed:12208841')], notes=['CycB indirectly activates Cdc20 (Harper et al., 2002).']),\n",
       " Transition(transition_id='tr_Cdh1', name=None, target='Cdh1', level=None, rule='(! CycA & ! CycB) | (Cdc20) | (p27 & ! CycB)', annotations=[('isDescribedBy', 'pubmed:12208841, pubmed:15363676')], notes=['The activity of Cdh1 requires the absence of CycB and CycA, which inhibit it by phosphorylation (Harper et al., 2002); Cdc20 further activates Cdh1. (Novak and Tyson, 2004); p27 allows the presence of CycA, by blocking its activity.']),\n",
       " Transition(transition_id='tr_CycA', name=None, target='CycA', level=None, rule='(E2F & ! Rb & ! Cdc20 & ! (Cdh1 & UbcH10)) | (CycA & ! Rb & ! Cdc20 & ! (Cdh1 & UbcH10))', annotations=[('isDescribedBy', 'pubmed:12208841, pubmed:15558010, pubmed:9529602')], notes=['The transcription of CycA is activated by E2F in the absence of Rb, which blocks this activation(Helin, 1998), in the absence of Cdc20, as well as of the pair formed by Cdh1 and UbcH10, which both lead to the degradation of CycA (Harper et al., 2002; Rape and Kirschner, 2004);CycA is stable in the absence of its inhibitors Rb, Cdc20, and of the pair Cdh1 and UbcH10.']),\n",
       " Transition(transition_id='tr_CycB', name=None, target='CycB', level=None, rule='! Cdc20 & ! Cdh1', annotations=[('isDescribedBy', 'pubmed:12208841')], notes=['CycB is active in the absence of both Cdc20 and Cdh1, which target CycB for destruction (Harper et al., 2002).']),\n",
       " Transition(transition_id='tr_CycD', name=None, target='CycD', level=None, rule='CycD', annotations=[], notes=['CycD is an input, considered as constant.']),\n",
       " Transition(transition_id='tr_CycE', name=None, target='CycE', level=None, rule='(E2F & ! Rb)', annotations=[('isDescribedBy', 'pubmed:9529602')], notes=['CycE activity requires the presence of E2f and the absence of Rb (Helin, 1998).']),\n",
       " Transition(transition_id='tr_E2F', name=None, target='E2F', level=None, rule='(! Rb & ! CycA & ! CycB) | (p27 & ! Rb & ! CycB)', annotations=[('isDescribedBy', 'pubmed:9529602, pubmed:15363676, pubmed:12559756')], notes=['E2F is active in the absence of Rb, that blocks E2F self-transcriptional activation (Helin, 1998), and in the absence of CycA and CycB, that inhibit E2F (Novak and Tyson, 2004); CycA may be present, if its inhibitory activity is blocked by p27 (Coqueret, 2003).']),\n",
       " Transition(transition_id='tr_p27', name=None, target='p27', level=None, rule='(! CycD & ! CycE & ! CycA & ! CycB) | (p27 & ! (CycE & CycA) & ! CycB &! CycD)', annotations=[('isDescribedBy', 'pubmed:12559756')], notes=['p27 is active in the absence of the cyclins; when p27 is already present, it blocks the action of CycE or CycA (but not both of them) by sequestration (Coqueret, 2003).']),\n",
       " Transition(transition_id='tr_Rb', name=None, target='Rb', level=None, rule='(! CycA & ! CycB & ! CycD & ! CycE) | (p27 & ! CycB & ! CycD)', annotations=[('isDescribedBy', 'pubmed:9020586, pubmed:15363676')], notes=['Rb is expressed in the absence of the cyclins, which inhibit it by phosphorylation (Novak and Tyson, 2004; Taya, 1997); it can be expressed in the presence of CycE or CycA if their inhibitory activity is blocked by p27 (Coqueret, 2003).']),\n",
       " Transition(transition_id='tr_UbcH10', name=None, target='UbcH10', level=None, rule='! Cdh1 | (Cdh1 & UbcH10 & (Cdc20 | CycA | CycB))', annotations=[('isDescribedBy', 'pubmed:15558010')], notes=['UbcH10 is active in the absence of Cdh1; this UbcH10 activity can be maintained in the presence of Cdh1 when at least one of its other targets is present (CycA, Cdc20, or CycB) (Rape and Kirschner, 2004).'])]"
      ]
     },
     "execution_count": 4,
     "metadata": {},
     "output_type": "execute_result"
    }
   ],
   "source": [
    "m.transitions"
   ]
  },
  {
   "cell_type": "code",
   "execution_count": null,
   "id": "1d13a711",
   "metadata": {},
   "outputs": [
    {
     "data": {
      "text/plain": [
       "<SBMLDocument>"
      ]
     },
     "execution_count": 3,
     "metadata": {},
     "output_type": "execute_result"
    }
   ],
   "source": [
    "doc = write_sbml(m)"
   ]
  },
  {
   "cell_type": "raw",
   "id": "15a5b144",
   "metadata": {
    "vscode": {
     "languageId": "raw"
    }
   },
   "source": [
    "to-sbml --input table/ThieffryThomas1995_multivalue.xlsx --output sbml/ThieffryThomas1995_multivalue_out.sbml\n",
    "\n",
    "to-sbml --input table/ThieffryThomas1995_operators.xlsx --output sbml/ThieffryThomas1995_operators_out.sbml"
   ]
  }
 ],
 "metadata": {
  "kernelspec": {
   "display_name": ".venv",
   "language": "python",
   "name": "python3"
  },
  "language_info": {
   "codemirror_mode": {
    "name": "ipython",
    "version": 3
   },
   "file_extension": ".py",
   "mimetype": "text/x-python",
   "name": "python",
   "nbconvert_exporter": "python",
   "pygments_lexer": "ipython3",
   "version": "3.9.18"
  }
 },
 "nbformat": 4,
 "nbformat_minor": 5
}
